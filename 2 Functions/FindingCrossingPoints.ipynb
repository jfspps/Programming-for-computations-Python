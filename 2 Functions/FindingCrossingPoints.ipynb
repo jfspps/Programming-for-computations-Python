{
 "metadata": {
  "language_info": {
   "codemirror_mode": {
    "name": "ipython",
    "version": 3
   },
   "file_extension": ".py",
   "mimetype": "text/x-python",
   "name": "python",
   "nbconvert_exporter": "python",
   "pygments_lexer": "ipython3",
   "version": "3.7.6-final"
  },
  "orig_nbformat": 2,
  "kernelspec": {
   "name": "python_defaultSpec_1595005704946",
   "display_name": "Python 3.7.6 64-bit ('base': conda)"
  }
 },
 "nbformat": 4,
 "nbformat_minor": 2,
 "cells": [
  {
   "cell_type": "markdown",
   "metadata": {},
   "source": [
    "# Finding the point where two lines cross"
   ]
  },
  {
   "cell_type": "code",
   "execution_count": 1,
   "metadata": {
    "tags": []
   },
   "outputs": [
    {
     "output_type": "stream",
     "name": "stdout",
     "text": "Finding points where f(x) and g(x) cross...\nMaximum difference is  20.0\n"
    }
   ],
   "source": [
    "from numpy import linspace\n",
    "import matplotlib.pyplot as plt\n",
    "\n",
    "def f(x):\n",
    "    return x\n",
    "\n",
    "def g(x):\n",
    "    return x**2\n",
    "\n",
    "a = int(input('Enter the number of steps to plot: '))\n",
    "\n",
    "b = float(input('Enter the difference epsilon required: '))\n",
    "\n",
    "print(\"Finding points where f(x) and g(x) cross...\")\n",
    "\n",
    "x = linspace(-4, 4, a)\n",
    "\n",
    "ymax = 0\n",
    "\n",
    "for i in range(a):\n",
    "    y = abs(f(x[i]) - g(x[i]))\n",
    "    if y > ymax:\n",
    "        ymax = y\n",
    "    if y < b:\n",
    "        print('Crossing found at x = ', x[i])\n",
    "\n",
    "print('Maximum difference is ', ymax)"
   ]
  },
  {
   "cell_type": "code",
   "execution_count": null,
   "metadata": {},
   "outputs": [],
   "source": []
  }
 ]
}