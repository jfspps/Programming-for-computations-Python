{
 "metadata": {
  "language_info": {
   "codemirror_mode": {
    "name": "ipython",
    "version": 3
   },
   "file_extension": ".py",
   "mimetype": "text/x-python",
   "name": "python",
   "nbconvert_exporter": "python",
   "pygments_lexer": "ipython3",
   "version": 3
  },
  "orig_nbformat": 2,
  "kernelspec": {
   "name": "python_defaultSpec_1595004034963",
   "display_name": "Python 3.8.2 64-bit"
  }
 },
 "nbformat": 4,
 "nbformat_minor": 2,
 "cells": [
  {
   "cell_type": "markdown",
   "metadata": {},
   "source": [
    "# Listing combinations using Python lists #\n",
    "\n",
    "Listing the combinations, using `m1*m2*m3*m4` where `m1` _etc._ represents the number\n",
    "of configurations of the first item, `m2` represents the second item, and so on"
   ]
  },
  {
   "cell_type": "code",
   "execution_count": 2,
   "metadata": {
    "tags": []
   },
   "outputs": [
    {
     "output_type": "stream",
     "name": "stdout",
     "text": "A deck of cards has 13 ranks: A, 2-10, J, Q and K. There are four suits: C, D, S and H. A total of 52 combinations\n['CA', 'C2', 'C3', 'C4', 'C5', 'C6', 'C7', 'C8', 'C9', 'C10', 'CJ', 'CQ', 'CK', 'DA', 'D2', 'D3', 'D4', 'D5', 'D6', 'D7', 'D8', 'D9', 'D10', 'DJ', 'DQ', 'DK', 'SA', 'S2', 'S3', 'S4', 'S5', 'S6', 'S7', 'S8', 'S9', 'S10', 'SJ', 'SQ', 'SK', 'HA', 'H2', 'H3', 'H4', 'H5', 'H6', 'H7', 'H8', 'H9', 'H10', 'HJ', 'HQ', 'HK'] \n\n\nThe roll of a die yields 1 to 6 eyes. With two rolls, we should see 36 combinations\n['11', '12', '13', '14', '15', '16', '21', '22', '23', '24', '25', '26', '31', '32', '33', '34', '35', '36', '41', '42', '43', '44', '45', '46', '51', '52', '53', '54', '55', '56', '61', '62', '63', '64', '65', '66']\nNumber of sums of seven is 6\n"
    }
   ],
   "source": [
    "\n",
    "\n",
    "print(\"A deck of cards has 13 ranks: A, 2-10, J, Q and K. There are four\" + \n",
    "      \" suits: C, D, S and H. A total of 52 combinations\")\n",
    "\n",
    "suits = ['C', 'D', 'S', 'H']\n",
    "\n",
    "ranks = ['A', '2', '3', '4', '5', '6', '7',\n",
    "         '8', '9', '10', 'J', 'Q', 'K']\n",
    "\n",
    "deck = []\n",
    "\n",
    "for s in suits:\n",
    "    for r in ranks:\n",
    "        deck.append(s + r)\n",
    "print(deck, \"\\n\\n\")\n",
    "\n",
    "print(\"The roll of a die yields 1 to 6 eyes. With two rolls, we should see 36 \"+\n",
    "      \"combinations\")\n",
    "\n",
    "eyes = ['1', '2', '3', '4', '5', '6']\n",
    "\n",
    "rolls = []\n",
    "\n",
    "count = 0   # number of sums of eyes which equal 7\n",
    "\n",
    "for i in eyes:\n",
    "    for j in eyes:\n",
    "        rolls.append(i + j)\n",
    "        if (int(i) + int(j) == 7):\n",
    "            count += 1\n",
    "\n",
    "print(rolls)\n",
    "\n",
    "print(\"Number of sums of seven is\", count)"
   ]
  },
  {
   "cell_type": "code",
   "execution_count": null,
   "metadata": {},
   "outputs": [],
   "source": []
  }
 ]
}